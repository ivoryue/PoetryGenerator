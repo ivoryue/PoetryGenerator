{
 "cells": [
  {
   "cell_type": "code",
   "execution_count": 57,
   "metadata": {},
   "outputs": [],
   "source": [
    "import pandas as pd\n",
    "import re\n",
    "import requests\n",
    "from bs4 import BeautifulSoup"
   ]
  },
  {
   "cell_type": "code",
   "execution_count": 187,
   "metadata": {},
   "outputs": [],
   "source": [
    "# This function slices the unwanted text (introduction, etc.) at the beginning of the txt file \n",
    "# It takes a string 'my_str', and delete everything before the specified 'sub' \n",
    "def slicer_front(my_str,sub):\n",
    "  index=my_str.find(sub)\n",
    "  if index !=-1 :\n",
    "        return my_str[index:] \n",
    "  else :\n",
    "        raise Exception('Sub string not found!')"
   ]
  },
  {
   "cell_type": "code",
   "execution_count": 188,
   "metadata": {},
   "outputs": [],
   "source": [
    "# This function slices the unwanted text (introduction, etc.) at the end of the txt file \n",
    "def slicer_back(my_str,sub):\n",
    "  index=my_str.find(sub)\n",
    "  if index !=-1 :\n",
    "        return my_str[:index] \n",
    "  else :\n",
    "        raise Exception('Sub string not found!')"
   ]
  },
  {
   "cell_type": "markdown",
   "metadata": {},
   "source": [
    "### Read Data"
   ]
  },
  {
   "cell_type": "code",
   "execution_count": 174,
   "metadata": {},
   "outputs": [],
   "source": [
    "def get_soup(target_url):\n",
    "    r = requests.get(target_url)\n",
    "    soup = BeautifulSoup(r.text, \"html.parser\")\n",
    "    return soup"
   ]
  },
  {
   "cell_type": "markdown",
   "metadata": {},
   "source": [
    "Read in from local file: poetry collection \"Collected Poems by Dylan Thomas\" "
   ]
  },
  {
   "cell_type": "code",
   "execution_count": 178,
   "metadata": {},
   "outputs": [],
   "source": [
    "corpus = []\n",
    "with open('DylanThomas.txt',\"r\") as f:\n",
    "    f= re.sub(r'\\n\\n\\n\\n\\n.+\\n\\n\\n','\\n', f.read()) ### Remove titles of poems \n",
    "    lines = f.split('\\n') ### Split into lines \n",
    "    for line in lines:\n",
    "        if line.strip():\n",
    "            corpus.append(line)  "
   ]
  },
  {
   "cell_type": "markdown",
   "metadata": {},
   "source": [
    "Read in from website, 'Poems Every Child Should Know'"
   ]
  },
  {
   "cell_type": "code",
   "execution_count": 179,
   "metadata": {},
   "outputs": [],
   "source": [
    "PK = get_soup('http://www.gutenberg.org/files/52546/52546-0.txt')"
   ]
  },
  {
   "cell_type": "code",
   "execution_count": 180,
   "metadata": {},
   "outputs": [],
   "source": [
    "PK_txt = PK.get_text()\n",
    "PK_txt_c = slicer_back(slicer_front(THS, 'CHRISTMAS NIGHT.'),' FINIS.').split('\\r\\n')\n",
    "for line in PK_txt_c:\n",
    "    if line.strip():\n",
    "        corpus.append(line)  "
   ]
  },
  {
   "cell_type": "markdown",
   "metadata": {},
   "source": [
    "Read in from website"
   ]
  },
  {
   "cell_type": "code",
   "execution_count": 181,
   "metadata": {},
   "outputs": [],
   "source": [
    "CP = get_soup('https://raw.githubusercontent.com/tfavory/pmlg-poem-generator/master/model_training/corpus.txt')"
   ]
  },
  {
   "cell_type": "code",
   "execution_count": 182,
   "metadata": {},
   "outputs": [],
   "source": [
    "for line in CP.get_text().split('\\n'):\n",
    "    if line.strip():\n",
    "        corpus.append(line)  "
   ]
  },
  {
   "cell_type": "code",
   "execution_count": 183,
   "metadata": {},
   "outputs": [
    {
     "data": {
      "text/plain": [
       "39166"
      ]
     },
     "execution_count": 183,
     "metadata": {},
     "output_type": "execute_result"
    }
   ],
   "source": [
    "len(corpus)"
   ]
  },
  {
   "cell_type": "markdown",
   "metadata": {},
   "source": [
    "Read in from website 'Poems Teachers Ask For'"
   ]
  },
  {
   "cell_type": "code",
   "execution_count": 184,
   "metadata": {},
   "outputs": [],
   "source": [
    "PF = get_soup('http://www.gutenberg.org/cache/epub/18909/pg18909.txt')"
   ]
  },
  {
   "cell_type": "code",
   "execution_count": 193,
   "metadata": {},
   "outputs": [],
   "source": [
    "PF_txt= PF.get_text()\n",
    "PF_txt_c = slicer_back(slicer_front(PF_txt, 'O Captain! My Captain!'),'End of the Project Gutenberg EBook of Poems Teachers Ask For').split('\\r\\n')"
   ]
  },
  {
   "cell_type": "code",
   "execution_count": 195,
   "metadata": {},
   "outputs": [],
   "source": [
    "for line in PF_txt_c:\n",
    "    if line.strip():\n",
    "        corpus.append(line)"
   ]
  },
  {
   "cell_type": "code",
   "execution_count": 196,
   "metadata": {},
   "outputs": [
    {
     "data": {
      "text/plain": [
       "51203"
      ]
     },
     "execution_count": 196,
     "metadata": {},
     "output_type": "execute_result"
    }
   ],
   "source": [
    "len(corpus)"
   ]
  }
 ],
 "metadata": {
  "kernelspec": {
   "display_name": "Python 3",
   "language": "python",
   "name": "python3"
  },
  "language_info": {
   "codemirror_mode": {
    "name": "ipython",
    "version": 3
   },
   "file_extension": ".py",
   "mimetype": "text/x-python",
   "name": "python",
   "nbconvert_exporter": "python",
   "pygments_lexer": "ipython3",
   "version": "3.7.4"
  }
 },
 "nbformat": 4,
 "nbformat_minor": 2
}
